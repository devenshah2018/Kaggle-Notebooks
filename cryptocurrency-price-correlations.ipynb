{
 "cells": [
  {
   "cell_type": "markdown",
   "id": "6a9bd159",
   "metadata": {
    "papermill": {
     "duration": 0.006162,
     "end_time": "2022-07-20T00:51:03.369349",
     "exception": false,
     "start_time": "2022-07-20T00:51:03.363187",
     "status": "completed"
    },
    "tags": []
   },
   "source": [
    "# Introduction\n",
    "\n",
    "Cryptocurrencies are known for their high volatility, that may seem completely arbitrary. However, many cryptocurrencies fluctuate in accordance to another cryptocurrencies. As a high-level example, Ampleforth (AMPL) moves closely with Ethereum (ETH) because AMPL is built on the Ethereum Blockchain. Other patterns may not be as clear. Using datasets from Coinbase and Yahoo Finance, these correlations can easily be determined using the scripts below.\n",
    "\n",
    "The correlation method used for this notebook is Pearson. The Pandas library has a built in function to determine the correlation. Nevertheless, it is important to understand how the algorithm works. In simple terms, the Pearson Correlation Coeffcient (PCC) is determined by taking the covariance of two lists, and dividing it by the product of the standard deviations of each list. A more procedural method of determining the PCC of two lists (**x** and **y**) is as follows:\n",
    "1. Multiply each element of list **x** to the respective index element of list **y**. Let us call the list that contains these values **xy**.\n",
    "2. Take the square of each element in list **x**. Let us call the list that contains these values **x2**.\n",
    "3. Take the square of each element in list **y**. Let us call the list that contains these values **y2**.\n",
    "4. Find the sum of all elements in the lists **x** and **y**. Let us call these values **sumx** and **sumy**, respectively.\n",
    "5. Find the sum of all elements in the list **xy**. Let us call this value **sumxy**.\n",
    "6. Find the sum of all elements in the lists **x2** and **y2**. Let us call these values **sumx2** and **sumy2**, respectively.\n",
    "7. Find the difference between **sumxy** and the product of **sumx** and **sumy**. Let us call this value **cov**, as in covariance.\n",
    "8. Find the standard deviation of list **x** by finding the difference between **sumx2** and the square of **sumx**. Let us call this value **stdx**.\n",
    "9. Repeat Step 8 for list **y**. Let us call this value **stdy**.\n",
    "10. Find the product of **stdx** and **stdy**. Let us call this value **std**.\n",
    "11. Finally, divide **cov** by **std** to determine the PCC.\n",
    "\n",
    "The PCC ranges from -1 to 1.\n",
    "* As the PCC approaches 1, the correlation of the two lists increases.\n",
    "* As the PCC approaches -1, the inverse correlation of the two lists increases.\n",
    "* As the PCC approaches 0, the variance of the two lists increases. The higher the variance, the less the two lists are correlated."
   ]
  },
  {
   "cell_type": "markdown",
   "id": "bfb0a9f7",
   "metadata": {
    "papermill": {
     "duration": 0.004768,
     "end_time": "2022-07-20T00:51:03.379495",
     "exception": false,
     "start_time": "2022-07-20T00:51:03.374727",
     "status": "completed"
    },
    "tags": []
   },
   "source": [
    "## Important Notes\n",
    "\n",
    "* To choose the crytocurrency pair you wish to analyze, initialize the variable in Cell 4.\n",
    "* Yahoo Finance does not provide a complete list of product pairs and Coinbase does not provide the full historical data of a cryptocurrency. Using both, we are able to extract all coins accounted for by Coinbase, as well as the full historical data of each coin. **Only coins recognized by BOTH Yahoo Finance and Coinbase will work!**\n",
    "* If you happen to run into an error saying that a particular cryptocurrency pair has been delisted from Yahoo Finance, simple append the trading pair to the list **coins_to_remove** in Cell 5.\n",
    "* Changes and updates will be made to this notebook regularly."
   ]
  },
  {
   "cell_type": "markdown",
   "id": "fdfa3fc1",
   "metadata": {
    "papermill": {
     "duration": 0.00514,
     "end_time": "2022-07-20T00:51:03.390033",
     "exception": false,
     "start_time": "2022-07-20T00:51:03.384893",
     "status": "completed"
    },
    "tags": []
   },
   "source": [
    "# Implementation\n",
    "## Step 1: Install libraries\n",
    "* **yfinance** is used to access the historical data of a single cryptocurrency pair.\n",
    "* **pandas** is used to handle large datasets using dataframes.\n",
    "* **requests** is used to submit HTTP requests to Coinbase and receive the respective HTTP response.\n",
    "* **matplotlib.pyplot** is used to visualize results to analyze."
   ]
  },
  {
   "cell_type": "code",
   "execution_count": 1,
   "id": "7d56b13e",
   "metadata": {
    "_kg_hide-output": true,
    "execution": {
     "iopub.execute_input": "2022-07-20T00:51:03.403371Z",
     "iopub.status.busy": "2022-07-20T00:51:03.402617Z",
     "iopub.status.idle": "2022-07-20T00:51:16.908257Z",
     "shell.execute_reply": "2022-07-20T00:51:16.906949Z"
    },
    "papermill": {
     "duration": 13.515521,
     "end_time": "2022-07-20T00:51:16.911280",
     "exception": false,
     "start_time": "2022-07-20T00:51:03.395759",
     "status": "completed"
    },
    "tags": []
   },
   "outputs": [
    {
     "name": "stdout",
     "output_type": "stream",
     "text": [
      "Collecting yfinance\r\n",
      "  Downloading yfinance-0.1.74-py2.py3-none-any.whl (27 kB)\r\n",
      "Requirement already satisfied: pandas>=0.24.0 in /opt/conda/lib/python3.7/site-packages (from yfinance) (1.3.5)\r\n",
      "Requirement already satisfied: requests>=2.26 in /opt/conda/lib/python3.7/site-packages (from yfinance) (2.27.1)\r\n",
      "Requirement already satisfied: lxml>=4.5.1 in /opt/conda/lib/python3.7/site-packages (from yfinance) (4.9.0)\r\n",
      "Collecting multitasking>=0.0.7\r\n",
      "  Downloading multitasking-0.0.11-py3-none-any.whl (8.5 kB)\r\n",
      "Requirement already satisfied: numpy>=1.15 in /opt/conda/lib/python3.7/site-packages (from yfinance) (1.21.6)\r\n",
      "Requirement already satisfied: python-dateutil>=2.7.3 in /opt/conda/lib/python3.7/site-packages (from pandas>=0.24.0->yfinance) (2.8.2)\r\n",
      "Requirement already satisfied: pytz>=2017.3 in /opt/conda/lib/python3.7/site-packages (from pandas>=0.24.0->yfinance) (2022.1)\r\n",
      "Requirement already satisfied: urllib3<1.27,>=1.21.1 in /opt/conda/lib/python3.7/site-packages (from requests>=2.26->yfinance) (1.26.9)\r\n",
      "Requirement already satisfied: charset-normalizer~=2.0.0 in /opt/conda/lib/python3.7/site-packages (from requests>=2.26->yfinance) (2.0.12)\r\n",
      "Requirement already satisfied: idna<4,>=2.5 in /opt/conda/lib/python3.7/site-packages (from requests>=2.26->yfinance) (3.3)\r\n",
      "Requirement already satisfied: certifi>=2017.4.17 in /opt/conda/lib/python3.7/site-packages (from requests>=2.26->yfinance) (2022.6.15)\r\n",
      "Requirement already satisfied: six>=1.5 in /opt/conda/lib/python3.7/site-packages (from python-dateutil>=2.7.3->pandas>=0.24.0->yfinance) (1.16.0)\r\n",
      "Installing collected packages: multitasking, yfinance\r\n",
      "Successfully installed multitasking-0.0.11 yfinance-0.1.74\r\n",
      "\u001b[33mWARNING: Running pip as the 'root' user can result in broken permissions and conflicting behaviour with the system package manager. It is recommended to use a virtual environment instead: https://pip.pypa.io/warnings/venv\u001b[0m\u001b[33m\r\n",
      "\u001b[0m"
     ]
    }
   ],
   "source": [
    "!pip install yfinance\n",
    "\n",
    "import yfinance as yf\n",
    "import pandas as pd\n",
    "import requests\n",
    "import matplotlib.pyplot as plt"
   ]
  },
  {
   "cell_type": "markdown",
   "id": "3e304734",
   "metadata": {
    "papermill": {
     "duration": 0.005529,
     "end_time": "2022-07-20T00:51:16.922953",
     "exception": false,
     "start_time": "2022-07-20T00:51:16.917424",
     "status": "completed"
    },
    "tags": []
   },
   "source": [
    "## Step 2: Implement function to determine the correlation of two coins\n",
    "\n",
    "The **desired_coin_ticker** variable is the coin that the user wishes to compare correlations with. For example, if I wish to see how the price movements of Ethereum correlates with the price movements of all other cryptocurrencies, **desired_coin_ticker='ETH-USD'**. The **coin_list_ticker** variable is the ticker initialized when iterating through the list of all coins recognized by Coinbase (i.e., all other tickers aside from ETH-USD). Note that this is simply a function to be used later in the notebook."
   ]
  },
  {
   "cell_type": "code",
   "execution_count": 2,
   "id": "32695cda",
   "metadata": {
    "execution": {
     "iopub.execute_input": "2022-07-20T00:51:16.936668Z",
     "iopub.status.busy": "2022-07-20T00:51:16.936251Z",
     "iopub.status.idle": "2022-07-20T00:51:16.949743Z",
     "shell.execute_reply": "2022-07-20T00:51:16.948762Z"
    },
    "papermill": {
     "duration": 0.023017,
     "end_time": "2022-07-20T00:51:16.951845",
     "exception": false,
     "start_time": "2022-07-20T00:51:16.928828",
     "status": "completed"
    },
    "tags": []
   },
   "outputs": [],
   "source": [
    "def correlation(desired_coin_ticker, coin_list_ticker):\n",
    "    \n",
    "    # Download historical data of each ticker using Yahoo Finance\n",
    "    desired_coin = yf.download(desired_coin_ticker, progress=False)\n",
    "    desired_coin_df = pd.DataFrame(desired_coin)\n",
    "    coin_list = yf.download(coin_list_ticker, progress=False)\n",
    "    coin_list_df = pd.DataFrame(coin_list)\n",
    "    \n",
    "    # Set the start data of the historical data to the newer coin and update each dataframe.\n",
    "    if desired_coin_df.index.values[0] > coin_list_df.index.values[0]:\n",
    "        start_date = desired_coin_df.index.values[0]\n",
    "    elif desired_coin_df.index.values[0] < coin_list_df.index.values[0]:\n",
    "        start_date = coin_list_df.index.values[0]\n",
    "    elif desired_coin_df.index.values[0] == coin_list_df.index.values[0]:\n",
    "        start_date = coin_list_df.index.values[0]\n",
    "    desired_coin_df = desired_coin_df[desired_coin_df.index >= start_date]\n",
    "    coin_list_df = coin_list_df[coin_list_df.index >= start_date]\n",
    "    \n",
    "    # Export the \"Open\" prices of each ticker to a list. Verify the two lists are of equal length.\n",
    "    desired_coin_prices = desired_coin_df[\"Open\"].tolist()\n",
    "    coin_list_prices = coin_list_df[\"Open\"].tolist()\n",
    "    if len(desired_coin_prices) > len(coin_list_prices):\n",
    "        d = abs(len(desired_coin_prices) - len(coin_list_prices))\n",
    "        desired_coin_prices = desired_coin_prices[d:]\n",
    "    if len(desired_coin_prices) < len(coin_list_prices):\n",
    "        d = abs(len(desired_coin_prices) - len(coin_list_prices))\n",
    "        coin_list_prices = coin_list_prices[d:]\n",
    "    \n",
    "    # Import the two lists into a new dataframe.\n",
    "    data = {desired_coin_ticker: desired_coin_prices, coin_list_ticker: coin_list_prices}\n",
    "    df = pd.DataFrame(data=data)\n",
    "    \n",
    "    # Find the correlation of the dataframe using Pandas' corr() function.\n",
    "    corr = df.corr()\n",
    "    return corr[desired_coin_ticker].iloc[1]"
   ]
  },
  {
   "cell_type": "markdown",
   "id": "dc6f2b16",
   "metadata": {
    "papermill": {
     "duration": 0.005471,
     "end_time": "2022-07-20T00:51:16.963210",
     "exception": false,
     "start_time": "2022-07-20T00:51:16.957739",
     "status": "completed"
    },
    "tags": []
   },
   "source": [
    "## Step 3: Get a list of all coins\n",
    "\n",
    "Using the **requests** package, an HTTP request is sent to Coinbase to receive a list of all cryptocurrencies recognized by Coinbase. However, these are simply the coin IDs, not the trading pairs. In order to make each ID a trading pair, '-USD' is appended to each ID. This list of pairs is then sorted in ascending alphabetic order."
   ]
  },
  {
   "cell_type": "code",
   "execution_count": 3,
   "id": "361ab280",
   "metadata": {
    "execution": {
     "iopub.execute_input": "2022-07-20T00:51:16.976374Z",
     "iopub.status.busy": "2022-07-20T00:51:16.976004Z",
     "iopub.status.idle": "2022-07-20T00:51:17.252473Z",
     "shell.execute_reply": "2022-07-20T00:51:17.251024Z"
    },
    "papermill": {
     "duration": 0.286927,
     "end_time": "2022-07-20T00:51:17.255857",
     "exception": false,
     "start_time": "2022-07-20T00:51:16.968930",
     "status": "completed"
    },
    "tags": []
   },
   "outputs": [],
   "source": [
    "# Get list of all known coins recognized by Coinbase.\n",
    "url = \"https://api.exchange.coinbase.com/currencies\"\n",
    "headers = {\"Accept\": \"application/json\"}\n",
    "response = requests.get(url, headers=headers)\n",
    "response = response.json()\n",
    "\n",
    "# Append \"-USD\" to each coin ID to create a pair.\n",
    "comp_coin_list = []\n",
    "for i in response:\n",
    "    comp_coin_list.append(i['id'])\n",
    "for i in range(len(comp_coin_list)):\n",
    "    comp_coin_list[i] = comp_coin_list[i] + \"-USD\"\n",
    "comp_coin_list = sorted(comp_coin_list)"
   ]
  },
  {
   "cell_type": "markdown",
   "id": "f2dba844",
   "metadata": {
    "papermill": {
     "duration": 0.006526,
     "end_time": "2022-07-20T00:51:17.269303",
     "exception": false,
     "start_time": "2022-07-20T00:51:17.262777",
     "status": "completed"
    },
    "tags": []
   },
   "source": [
    "## Step 4: Initialize the variable with the coin you wish to compare\n",
    "\n",
    "You may change 'ETH-USD' to which ever trading pair you desire. It must be paired with the fiat currency USD."
   ]
  },
  {
   "cell_type": "code",
   "execution_count": 4,
   "id": "16ac1dcd",
   "metadata": {
    "execution": {
     "iopub.execute_input": "2022-07-20T00:51:17.284977Z",
     "iopub.status.busy": "2022-07-20T00:51:17.284435Z",
     "iopub.status.idle": "2022-07-20T00:51:17.290204Z",
     "shell.execute_reply": "2022-07-20T00:51:17.288665Z"
    },
    "papermill": {
     "duration": 0.016943,
     "end_time": "2022-07-20T00:51:17.292893",
     "exception": false,
     "start_time": "2022-07-20T00:51:17.275950",
     "status": "completed"
    },
    "tags": []
   },
   "outputs": [],
   "source": [
    "the_coin = \"ETH-USD\""
   ]
  },
  {
   "cell_type": "markdown",
   "id": "47fc84c9",
   "metadata": {
    "papermill": {
     "duration": 0.00626,
     "end_time": "2022-07-20T00:51:17.305514",
     "exception": false,
     "start_time": "2022-07-20T00:51:17.299254",
     "status": "completed"
    },
    "tags": []
   },
   "source": [
    "## Step 5: Remove coins not recognized by Yahoo Finance\n",
    "\n",
    "Remove coins that are not listed on Yahoo Finance and the coin you are comparing against (i.e., the correlation of ETH-USD with itself is 1.0)."
   ]
  },
  {
   "cell_type": "code",
   "execution_count": 5,
   "id": "9181fbcc",
   "metadata": {
    "execution": {
     "iopub.execute_input": "2022-07-20T00:51:17.322217Z",
     "iopub.status.busy": "2022-07-20T00:51:17.321180Z",
     "iopub.status.idle": "2022-07-20T00:51:17.328247Z",
     "shell.execute_reply": "2022-07-20T00:51:17.327077Z"
    },
    "papermill": {
     "duration": 0.018797,
     "end_time": "2022-07-20T00:51:17.331168",
     "exception": false,
     "start_time": "2022-07-20T00:51:17.312371",
     "status": "completed"
    },
    "tags": []
   },
   "outputs": [],
   "source": [
    "coins_to_remove = ['CGLD-USD', 'EUR-USD', 'GBP-USD', 'PAX-USD', 'USD-USD', the_coin]\n",
    "for c in coins_to_remove:\n",
    "    comp_coin_list.remove(c)"
   ]
  },
  {
   "cell_type": "markdown",
   "id": "691180e5",
   "metadata": {
    "papermill": {
     "duration": 0.006637,
     "end_time": "2022-07-20T00:51:17.344189",
     "exception": false,
     "start_time": "2022-07-20T00:51:17.337552",
     "status": "completed"
    },
    "tags": []
   },
   "source": [
    "## Step 6: Determine the PCCs\n",
    "\n",
    "These PCCs are aggregated into a dataframe in descending order. The cryptocurrencies with the most correlation to the desired coin is listed at the top. The cryptocurrencies with the most inverse correlation is listed at the bottom. The cryptocurrencies with little correlation is listed in the middle."
   ]
  },
  {
   "cell_type": "code",
   "execution_count": 6,
   "id": "7ca55767",
   "metadata": {
    "execution": {
     "iopub.execute_input": "2022-07-20T00:51:17.360057Z",
     "iopub.status.busy": "2022-07-20T00:51:17.359027Z",
     "iopub.status.idle": "2022-07-20T00:54:28.934910Z",
     "shell.execute_reply": "2022-07-20T00:54:28.933516Z"
    },
    "papermill": {
     "duration": 191.593482,
     "end_time": "2022-07-20T00:54:28.944057",
     "exception": false,
     "start_time": "2022-07-20T00:51:17.350575",
     "status": "completed"
    },
    "tags": []
   },
   "outputs": [
    {
     "data": {
      "text/html": [
       "<div>\n",
       "<style scoped>\n",
       "    .dataframe tbody tr th:only-of-type {\n",
       "        vertical-align: middle;\n",
       "    }\n",
       "\n",
       "    .dataframe tbody tr th {\n",
       "        vertical-align: top;\n",
       "    }\n",
       "\n",
       "    .dataframe thead th {\n",
       "        text-align: right;\n",
       "    }\n",
       "</style>\n",
       "<table border=\"1\" class=\"dataframe\">\n",
       "  <thead>\n",
       "    <tr style=\"text-align: right;\">\n",
       "      <th></th>\n",
       "      <th>Pair</th>\n",
       "      <th>Correlation</th>\n",
       "    </tr>\n",
       "  </thead>\n",
       "  <tbody>\n",
       "    <tr>\n",
       "      <th>0</th>\n",
       "      <td>WAMPL-USD</td>\n",
       "      <td>0.948819</td>\n",
       "    </tr>\n",
       "    <tr>\n",
       "      <th>1</th>\n",
       "      <td>STX-USD</td>\n",
       "      <td>0.932125</td>\n",
       "    </tr>\n",
       "    <tr>\n",
       "      <th>2</th>\n",
       "      <td>OP-USD</td>\n",
       "      <td>0.928619</td>\n",
       "    </tr>\n",
       "    <tr>\n",
       "      <th>3</th>\n",
       "      <td>BTC-USD</td>\n",
       "      <td>0.927265</td>\n",
       "    </tr>\n",
       "    <tr>\n",
       "      <th>4</th>\n",
       "      <td>WBTC-USD</td>\n",
       "      <td>0.926182</td>\n",
       "    </tr>\n",
       "    <tr>\n",
       "      <th>...</th>\n",
       "      <td>...</td>\n",
       "      <td>...</td>\n",
       "    </tr>\n",
       "    <tr>\n",
       "      <th>198</th>\n",
       "      <td>DAI-USD</td>\n",
       "      <td>-0.349409</td>\n",
       "    </tr>\n",
       "    <tr>\n",
       "      <th>199</th>\n",
       "      <td>USDC-USD</td>\n",
       "      <td>-0.349833</td>\n",
       "    </tr>\n",
       "    <tr>\n",
       "      <th>200</th>\n",
       "      <td>APE-USD</td>\n",
       "      <td>-0.411201</td>\n",
       "    </tr>\n",
       "    <tr>\n",
       "      <th>201</th>\n",
       "      <td>DYP-USD</td>\n",
       "      <td>-0.445837</td>\n",
       "    </tr>\n",
       "    <tr>\n",
       "      <th>202</th>\n",
       "      <td>GST-USD</td>\n",
       "      <td>-0.671701</td>\n",
       "    </tr>\n",
       "  </tbody>\n",
       "</table>\n",
       "<p>203 rows × 2 columns</p>\n",
       "</div>"
      ],
      "text/plain": [
       "          Pair  Correlation\n",
       "0    WAMPL-USD     0.948819\n",
       "1      STX-USD     0.932125\n",
       "2       OP-USD     0.928619\n",
       "3      BTC-USD     0.927265\n",
       "4     WBTC-USD     0.926182\n",
       "..         ...          ...\n",
       "198    DAI-USD    -0.349409\n",
       "199   USDC-USD    -0.349833\n",
       "200    APE-USD    -0.411201\n",
       "201    DYP-USD    -0.445837\n",
       "202    GST-USD    -0.671701\n",
       "\n",
       "[203 rows x 2 columns]"
      ]
     },
     "execution_count": 6,
     "metadata": {},
     "output_type": "execute_result"
    }
   ],
   "source": [
    "# Calculate correlations and append to a new list.\n",
    "list_of_correlations = []\n",
    "for i in range(len(comp_coin_list)):\n",
    "    list_of_correlations.append(correlation(the_coin, comp_coin_list[i]))\n",
    "\n",
    "# Use list to aggregate a final dataframe.\n",
    "data = {'Pair': comp_coin_list, 'Correlation': list_of_correlations}\n",
    "correlation_df = pd.DataFrame(data=data)\n",
    "correlation_df.sort_values(by=['Correlation'], ascending=False, inplace=True)\n",
    "correlation_df.reset_index(drop=True, inplace=True)\n",
    "correlation_df"
   ]
  },
  {
   "cell_type": "markdown",
   "id": "b3ec8d30",
   "metadata": {
    "papermill": {
     "duration": 0.006472,
     "end_time": "2022-07-20T00:54:28.957075",
     "exception": false,
     "start_time": "2022-07-20T00:54:28.950603",
     "status": "completed"
    },
    "tags": []
   },
   "source": [
    "# Analysis\n",
    "## Bar Plot of Most Correlated Cryptocurrencies"
   ]
  },
  {
   "cell_type": "code",
   "execution_count": 7,
   "id": "fec5f12e",
   "metadata": {
    "execution": {
     "iopub.execute_input": "2022-07-20T00:54:28.974826Z",
     "iopub.status.busy": "2022-07-20T00:54:28.974027Z",
     "iopub.status.idle": "2022-07-20T00:54:29.253381Z",
     "shell.execute_reply": "2022-07-20T00:54:29.251826Z"
    },
    "papermill": {
     "duration": 0.290814,
     "end_time": "2022-07-20T00:54:29.256110",
     "exception": false,
     "start_time": "2022-07-20T00:54:28.965296",
     "status": "completed"
    },
    "tags": []
   },
   "outputs": [
    {
     "data": {
      "image/png": "[encoded data removed]",
      "text/plain": [
       "<Figure size 720x360 with 1 Axes>"
      ]
     },
     "metadata": {
      "needs_background": "light"
     },
     "output_type": "display_data"
    }
   ],
   "source": [
    "correlation_df_head = correlation_df.head(10)\n",
    "pairs = correlation_df_head['Pair'].tolist()\n",
    "correlations = correlation_df_head['Correlation'].tolist()\n",
    "fig = plt.figure(figsize = (10, 5))\n",
    "\n",
    "plt.bar(pairs, correlations, color='blue', width=0.5)\n",
    "plt.xlabel(\"Pairs compared with \" + the_coin)\n",
    "plt.ylabel(\"Correlation Coefficient\")\n",
    "plt.title(\"Cryptocurrency Price Movement Correlations With \" + the_coin)\n",
    "plt.xticks(rotation=45)\n",
    "plt.show()"
   ]
  },
  {
   "cell_type": "markdown",
   "id": "c9ac123d",
   "metadata": {
    "papermill": {
     "duration": 0.007068,
     "end_time": "2022-07-20T00:54:29.270499",
     "exception": false,
     "start_time": "2022-07-20T00:54:29.263431",
     "status": "completed"
    },
    "tags": []
   },
   "source": [
    "## Bar Plot of Most Inversely Correlated Cryptocurrencies"
   ]
  },
  {
   "cell_type": "code",
   "execution_count": 8,
   "id": "edd57ffc",
   "metadata": {
    "execution": {
     "iopub.execute_input": "2022-07-20T00:54:29.287896Z",
     "iopub.status.busy": "2022-07-20T00:54:29.286933Z",
     "iopub.status.idle": "2022-07-20T00:54:29.543632Z",
     "shell.execute_reply": "2022-07-20T00:54:29.540797Z"
    },
    "papermill": {
     "duration": 0.268693,
     "end_time": "2022-07-20T00:54:29.546563",
     "exception": false,
     "start_time": "2022-07-20T00:54:29.277870",
     "status": "completed"
    },
    "tags": []
   },
   "outputs": [
    {
     "data": {
      "image/png": "[encoded data removed]",
      "text/plain": [
       "<Figure size 720x360 with 1 Axes>"
      ]
     },
     "metadata": {
      "needs_background": "light"
     },
     "output_type": "display_data"
    }
   ],
   "source": [
    "correlation_df_tail = correlation_df.tail(10)\n",
    "pairs = correlation_df_tail['Pair'].tolist()\n",
    "correlations = correlation_df_tail['Correlation'].tolist()\n",
    "fig = plt.figure(figsize = (10, 5))\n",
    "\n",
    "plt.bar(pairs, correlations, color='blue', width=0.5)\n",
    "plt.xlabel(\"Pairs compared with \" + the_coin)\n",
    "plt.ylabel(\"Correlation Coefficient\")\n",
    "plt.title(\"Cryptocurrency Price Movement Correlations With \" + the_coin)\n",
    "plt.xticks(rotation=45)\n",
    "plt.show()"
   ]
  },
  {
   "cell_type": "markdown",
   "id": "6231d7b7",
   "metadata": {
    "papermill": {
     "duration": 0.007271,
     "end_time": "2022-07-20T00:54:29.561693",
     "exception": false,
     "start_time": "2022-07-20T00:54:29.554422",
     "status": "completed"
    },
    "tags": []
   },
   "source": [
    "# Final Words\n",
    "\n",
    "These are open-source scripts and may be used as pleased (credit is appreciated). Feel free to share your own versions in the comments!"
   ]
  }
 ],
 "metadata": {
  "kernelspec": {
   "display_name": "Python 3",
   "language": "python",
   "name": "python3"
  },
  "language_info": {
   "codemirror_mode": {
    "name": "ipython",
    "version": 3
   },
   "file_extension": ".py",
   "mimetype": "text/x-python",
   "name": "python",
   "nbconvert_exporter": "python",
   "pygments_lexer": "ipython3",
   "version": "3.7.12"
  },
  "papermill": {
   "default_parameters": {},
   "duration": 217.61746,
   "end_time": "2022-07-20T00:54:30.294505",
   "environment_variables": {},
   "exception": null,
   "input_path": "__notebook__.ipynb",
   "output_path": "__notebook__.ipynb",
   "parameters": {},
   "start_time": "2022-07-20T00:50:52.677045",
   "version": "2.3.4"
  }
 },
 "nbformat": 4,
 "nbformat_minor": 5
}
